{
 "cells": [
  {
   "cell_type": "code",
   "execution_count": 1,
   "id": "a53b7e44-0770-401a-8dc4-a794aa67be01",
   "metadata": {},
   "outputs": [
    {
     "data": {
      "text/plain": [
       "['Cars', 'Ratatouille', 'A boy in the stripped pajamas']"
      ]
     },
     "execution_count": 1,
     "metadata": {},
     "output_type": "execute_result"
    }
   ],
   "source": [
    "#4. Create a list of your favorite movies and print it. Then, append a new movie to the list and print the updated list.\n",
    "movies=[\"Cars\", \"Ratatouille\", \"A boy in the stripped pajamas\"]\n",
    "movies"
   ]
  },
  {
   "cell_type": "code",
   "execution_count": 12,
   "id": "6f8e01c8-3104-440e-8739-38ec229fb951",
   "metadata": {},
   "outputs": [
    {
     "data": {
      "text/plain": [
       "['Cars',\n",
       " 'Ratatouille',\n",
       " 'A boy in the stripped pajamas',\n",
       " 'Venom: the last dance',\n",
       " 'Venom: The Last Dance',\n",
       " 'Venom: The Last Dance']"
      ]
     },
     "execution_count": 12,
     "metadata": {},
     "output_type": "execute_result"
    }
   ],
   "source": [
    "movies.append (\"Venom: The Last Dance\")\n",
    "movies.pop()\n",
    "movies"
   ]
  },
  {
   "cell_type": "code",
   "execution_count": 20,
   "id": "7081de5f-2f93-41b1-942f-5bf403ede1ed",
   "metadata": {},
   "outputs": [
    {
     "data": {
      "text/plain": [
       "[1, 2, 3, 4, 5, 6, 7, 8, 9, 10]"
      ]
     },
     "execution_count": 20,
     "metadata": {},
     "output_type": "execute_result"
    }
   ],
   "source": [
    "# 5. Create a list of integers from 1 to 10 and print it. Calculate the sum of all the numbers in the list and print the result.\n",
    "# List_int=[1,2,3,4,5,6,7,8,9,10]\n",
    "List_int=list(range(1,11))\n",
    "List_int"
   ]
  },
  {
   "cell_type": "code",
   "execution_count": 17,
   "id": "a67cacb3-77ce-4e8a-ade8-57afc69bf4fc",
   "metadata": {},
   "outputs": [
    {
     "name": "stdout",
     "output_type": "stream",
     "text": [
      "The total sum is: 55\n"
     ]
    }
   ],
   "source": [
    "Sums=sum(List_int)\n",
    "print(\"The total sum is:\",Sums)"
   ]
  },
  {
   "cell_type": "code",
   "execution_count": 26,
   "id": "6c2d559e-57a6-42f5-ab86-093409e56f8c",
   "metadata": {},
   "outputs": [
    {
     "name": "stdout",
     "output_type": "stream",
     "text": [
      "Before deletion :  ['Python', 'is', 3.14, 2]\n"
     ]
    }
   ],
   "source": [
    "# 6. Create a list of mixed data types including strings, integers, and floats and print it. Remove the first element from the list and print the modified list.\n",
    "Mixed_datas=[\"Python\" ,\"is\", 3.14,2]\n",
    "print(\"Before deletion : \",Mixed_datas)"
   ]
  },
  {
   "cell_type": "code",
   "execution_count": 27,
   "id": "84627b64-9354-42ce-a5fb-0a4cb3b442e2",
   "metadata": {},
   "outputs": [
    {
     "name": "stdout",
     "output_type": "stream",
     "text": [
      "After Deleting data from index 0:  ['is', 3.14, 2]\n"
     ]
    }
   ],
   "source": [
    "Mixed_datas.pop(0)\n",
    "print (\"After Deleting data from index 0: \",Mixed_datas)"
   ]
  },
  {
   "cell_type": "code",
   "execution_count": 28,
   "id": "a47eb115-1798-4698-9f82-e58fd1266536",
   "metadata": {},
   "outputs": [
    {
     "name": "stdout",
     "output_type": "stream",
     "text": [
      "('Sunday', 'Monday', 'Tuesday', 'Wednesday', 'Thursday', 'Friday', 'Saturday')\n"
     ]
    }
   ],
   "source": [
    "# 7. Create a tuple containing the names of the days of the week and print it. Access and print the name of the third day.\n",
    "Days_in_a_week=(\"Sunday\" , \"Monday\" , \"Tuesday\" , \"Wednesday\" , \"Thursday\" ,\"Friday\" , \"Saturday\")\n",
    "print(Days_in_a_week)"
   ]
  },
  {
   "cell_type": "code",
   "execution_count": 30,
   "id": "905be0a4-b608-4383-a686-be8251d312fe",
   "metadata": {},
   "outputs": [
    {
     "name": "stdout",
     "output_type": "stream",
     "text": [
      "Tuesday\n"
     ]
    }
   ],
   "source": [
    "Third_day=Days_in_a_week[2]\n",
    "print(Third_day)"
   ]
  },
  {
   "cell_type": "code",
   "execution_count": 31,
   "id": "561bcbdc-7116-4c65-aeb4-f6009821c767",
   "metadata": {},
   "outputs": [
    {
     "data": {
      "text/plain": [
       "('Red', 'Navy Blue', 'Torquoise Green', 'Yellow', 'Pink')"
      ]
     },
     "execution_count": 31,
     "metadata": {},
     "output_type": "execute_result"
    }
   ],
   "source": [
    "# 8. Create a tuple of your favorite colors and print it. Check if a certain color is present in the tuple and print the result.\n",
    "Colors=(\"Red\" , \"Navy Blue\", \"Torquoise Green\", \"Yellow\", \"Pink\")\n",
    "Colors"
   ]
  },
  {
   "cell_type": "code",
   "execution_count": 32,
   "id": "d9e783d6-1845-4d1b-8162-106ba08859ef",
   "metadata": {},
   "outputs": [
    {
     "data": {
      "text/plain": [
       "True"
      ]
     },
     "execution_count": 32,
     "metadata": {},
     "output_type": "execute_result"
    }
   ],
   "source": [
    "'Red' in Colors"
   ]
  },
  {
   "cell_type": "code",
   "execution_count": 33,
   "id": "2f34e9c1-29d4-4b99-b9af-7584e0e2bc78",
   "metadata": {},
   "outputs": [
    {
     "data": {
      "text/plain": [
       "False"
      ]
     },
     "execution_count": 33,
     "metadata": {},
     "output_type": "execute_result"
    }
   ],
   "source": [
    "\"Black\" in Colors"
   ]
  },
  {
   "cell_type": "code",
   "execution_count": 37,
   "id": "5cc0b910-5e4c-4b3c-9312-f6b82676c16c",
   "metadata": {},
   "outputs": [
    {
     "name": "stdout",
     "output_type": "stream",
     "text": [
      "Original :  {'title': 'Programming with Python', 'author': 'Mark', 'year': 2001}\n"
     ]
    }
   ],
   "source": [
    "# 9. Create a dictionary representing the information of a book with keys \"title\", \"author\", and \"year\" and print it. Update the year of the book and print the updated dictionary.\n",
    "Books={\"title\": \"Programming with Python\", \"author\" : \"Mark\" , \"year\" : 2001}\n",
    "print(\"Original : \" , Books)"
   ]
  },
  {
   "cell_type": "code",
   "execution_count": 41,
   "id": "afd950a8-33df-4200-bc38-a248b5c8d5cc",
   "metadata": {},
   "outputs": [
    {
     "name": "stdout",
     "output_type": "stream",
     "text": [
      "Updated :  {'title': 'Programming with Python', 'author': 'Mark', 'year': 2001, 'Year': 1990}\n"
     ]
    }
   ],
   "source": [
    "Books[\"Year\"]=1990\n",
    "print(\"Updated : \", Books)"
   ]
  },
  {
   "cell_type": "code",
   "execution_count": 42,
   "id": "be8f6b3e-b042-42a1-a15a-57c0c66a73f0",
   "metadata": {},
   "outputs": [
    {
     "data": {
      "text/plain": [
       "{'Apple': 'red', 'Tangerine': 'Orange', 'Kiwi': 'Green', 'Banana': 'Yellow'}"
      ]
     },
     "execution_count": 42,
     "metadata": {},
     "output_type": "execute_result"
    }
   ],
   "source": [
    "# 10. Create a dictionary containing the names of fruits as keys and their corresponding colors as values and print it. Add a new fruit-color pair to the dictionary and print the updated dictionary.\n",
    "Fruits={\"Apple\" : \"red\" , \"Tangerine\" : \"Orange\" , \"Kiwi\": \"Green\" , \"Banana\" : \"Yellow\"}\n",
    "Fruits"
   ]
  },
  {
   "cell_type": "code",
   "execution_count": 43,
   "id": "26602269-607c-4436-8648-d3cfe29ccb12",
   "metadata": {},
   "outputs": [
    {
     "name": "stdout",
     "output_type": "stream",
     "text": [
      "Updated :  {'Apple': 'red', 'Tangerine': 'Orange', 'Kiwi': 'Green', 'Banana': 'Yellow', 'Grape': 'Purple'}\n"
     ]
    }
   ],
   "source": [
    "Fruits[\"Grape\"]=\"Purple\"\n",
    "print(\"Updated : \", Fruits)"
   ]
  },
  {
   "cell_type": "code",
   "execution_count": 49,
   "id": "4973ade0-28b6-4442-9b73-b894a9767f3b",
   "metadata": {},
   "outputs": [
    {
     "data": {
      "text/plain": [
       "{'Kathmandu': 1000, 'Pokhara': 2000, 'Hetauda': 1500, 'Chicago': 300000}"
      ]
     },
     "execution_count": 49,
     "metadata": {},
     "output_type": "execute_result"
    }
   ],
   "source": [
    "# 11. Create a dictionary representing the population of different cities with keys as city names and values as population numbers and print it. Remove a city from the dictionary and print the modified dictionary.\n",
    "Cities={\"Kathmandu\" :1000 , \"Pokhara\" :2000 , \"Hetauda\" : 1500 , \"Chicago\" : 300000}\n",
    "Cities"
   ]
  },
  {
   "cell_type": "code",
   "execution_count": 50,
   "id": "a65ff5bc-2511-411e-b8d5-9f92b16ea63e",
   "metadata": {},
   "outputs": [
    {
     "data": {
      "text/plain": [
       "{'Kathmandu': 1000, 'Hetauda': 1500, 'Chicago': 300000}"
      ]
     },
     "execution_count": 50,
     "metadata": {},
     "output_type": "execute_result"
    }
   ],
   "source": [
    "del Cities[\"Pokhara\"]\n",
    "Cities"
   ]
  },
  {
   "cell_type": "code",
   "execution_count": null,
   "id": "62f186b8-84a5-414f-a77b-c9afb43689a3",
   "metadata": {},
   "outputs": [],
   "source": []
  }
 ],
 "metadata": {
  "kernelspec": {
   "display_name": "Python 3 (ipykernel)",
   "language": "python",
   "name": "python3"
  },
  "language_info": {
   "codemirror_mode": {
    "name": "ipython",
    "version": 3
   },
   "file_extension": ".py",
   "mimetype": "text/x-python",
   "name": "python",
   "nbconvert_exporter": "python",
   "pygments_lexer": "ipython3",
   "version": "3.12.4"
  }
 },
 "nbformat": 4,
 "nbformat_minor": 5
}
