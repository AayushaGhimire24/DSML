{
 "cells": [
  {
   "cell_type": "code",
   "execution_count": 6,
   "id": "58811e86-8c10-4c08-98b8-10d39124841d",
   "metadata": {},
   "outputs": [],
   "source": [
    "import numpy as np"
   ]
  },
  {
   "cell_type": "code",
   "execution_count": 7,
   "id": "90763196-2438-476f-819d-1bd53aee8a83",
   "metadata": {},
   "outputs": [
    {
     "data": {
      "text/plain": [
       "array([ 1,  2,  3,  4,  5,  6,  7,  8,  9, 10])"
      ]
     },
     "execution_count": 7,
     "metadata": {},
     "output_type": "execute_result"
    }
   ],
   "source": [
    "\n",
    "# Array Creation:\n",
    " # Create a 1-dimensional array of integers from 1 to 10.\n",
    "arr=np.arange(1,11)\n",
    "arr"
   ]
  },
  {
   "cell_type": "code",
   "execution_count": 8,
   "id": "73e6db18-2c66-42b4-80c4-ed23bb3ab56d",
   "metadata": {},
   "outputs": [
    {
     "data": {
      "text/plain": [
       "array([[0.31456132, 0.15860168, 0.976411  , 0.13035163],\n",
       "       [0.9825156 , 0.09713677, 0.39083947, 0.15514063],\n",
       "       [0.81223016, 0.41159795, 0.2150608 , 0.4946292 ]])"
      ]
     },
     "execution_count": 8,
     "metadata": {},
     "output_type": "execute_result"
    }
   ],
   "source": [
    "# Create a 2-dimensional array with random float values of shape (3, 4).\n",
    "arr_1=np.array\n",
    "d=np.random.rand(3,4) #create an array of random value\n",
    "d"
   ]
  },
  {
   "cell_type": "code",
   "execution_count": 14,
   "id": "476a71d5-8d94-430a-aae5-4bb42a624337",
   "metadata": {},
   "outputs": [
    {
     "data": {
      "text/plain": [
       "array([[[0., 0., 0., 0.],\n",
       "        [0., 0., 0., 0.],\n",
       "        [0., 0., 0., 0.]],\n",
       "\n",
       "       [[0., 0., 0., 0.],\n",
       "        [0., 0., 0., 0.],\n",
       "        [0., 0., 0., 0.]]])"
      ]
     },
     "execution_count": 14,
     "metadata": {},
     "output_type": "execute_result"
    }
   ],
   "source": [
    "# Create a 3-dimensional array of zeros with shape (2, 3, 4).\n",
    "arr_2=np.array\n",
    "d=np.zeros((2,3,4))\n",
    "d"
   ]
  },
  {
   "cell_type": "code",
   "execution_count": 15,
   "id": "d154026f-7685-497b-afe6-318b9f3a84e6",
   "metadata": {},
   "outputs": [
    {
     "data": {
      "text/plain": [
       "array([5, 7, 9])"
      ]
     },
     "execution_count": 15,
     "metadata": {},
     "output_type": "execute_result"
    }
   ],
   "source": [
    "# Array Operations:\n",
    "# Given two 1-dimensional arrays, perform element-wise addition,subtraction, multiplication, and division.\n",
    "a=np.array([1,2,3])\n",
    "b=np.array([4,5,6])\n",
    "c=a+b\n",
    "c"
   ]
  },
  {
   "cell_type": "code",
   "execution_count": 16,
   "id": "57a324db-e4a0-4338-a922-35ce2ac87313",
   "metadata": {},
   "outputs": [
    {
     "data": {
      "text/plain": [
       "array([-3, -3, -3])"
      ]
     },
     "execution_count": 16,
     "metadata": {},
     "output_type": "execute_result"
    }
   ],
   "source": [
    "d=a-b\n",
    "d"
   ]
  },
  {
   "cell_type": "code",
   "execution_count": 18,
   "id": "b669ba35-ea66-46a0-8650-342b0809fcc7",
   "metadata": {},
   "outputs": [
    {
     "data": {
      "text/plain": [
       "array([ 4, 10, 18])"
      ]
     },
     "execution_count": 18,
     "metadata": {},
     "output_type": "execute_result"
    }
   ],
   "source": [
    "e=a*b\n",
    "e"
   ]
  },
  {
   "cell_type": "code",
   "execution_count": 19,
   "id": "e7852ed8-fea7-46e0-9bc7-fba25949327f",
   "metadata": {},
   "outputs": [
    {
     "data": {
      "text/plain": [
       "array([0.25, 0.4 , 0.5 ])"
      ]
     },
     "execution_count": 19,
     "metadata": {},
     "output_type": "execute_result"
    }
   ],
   "source": [
    "f=a/b\n",
    "f"
   ]
  },
  {
   "cell_type": "code",
   "execution_count": 25,
   "id": "1138fd61-817c-46b9-b235-9786546270e2",
   "metadata": {},
   "outputs": [
    {
     "data": {
      "text/plain": [
       "3.0"
      ]
     },
     "execution_count": 25,
     "metadata": {},
     "output_type": "execute_result"
    }
   ],
   "source": [
    "# Calculate the mean, median, and standard deviation of a given 1-dimensional array.\n",
    "x=np.array([1,2,3,4,5])\n",
    "mean_a = np.mean(x)\n",
    "mean_a"
   ]
  },
  {
   "cell_type": "code",
   "execution_count": 24,
   "id": "4c6d19d8-5c9d-4db5-ae26-e17c41b399df",
   "metadata": {},
   "outputs": [
    {
     "data": {
      "text/plain": [
       "3.0"
      ]
     },
     "execution_count": 24,
     "metadata": {},
     "output_type": "execute_result"
    }
   ],
   "source": [
    "median_a=np.median(x)\n",
    "median_a"
   ]
  },
  {
   "cell_type": "code",
   "execution_count": 27,
   "id": "aaecc562-8094-45da-bcc6-481902bdb7f8",
   "metadata": {},
   "outputs": [
    {
     "data": {
      "text/plain": [
       "1.4142135623730951"
      ]
     },
     "execution_count": 27,
     "metadata": {},
     "output_type": "execute_result"
    }
   ],
   "source": [
    "std_a=np.std(x)\n",
    "std_a"
   ]
  },
  {
   "cell_type": "code",
   "execution_count": 28,
   "id": "ae9fe16e-f6f1-4f9f-b7c0-c547fd6bff1f",
   "metadata": {},
   "outputs": [
    {
     "name": "stdout",
     "output_type": "stream",
     "text": [
      "reshaped Array: [[ 1  2  3  4]\n",
      " [ 5  6  7  8]\n",
      " [ 9 10 11 12]]\n"
     ]
    }
   ],
   "source": [
    "# Reshape a 1-dimensional array into a 2-dimensional array of shape (3,4).\n",
    "res=np.array([1,2,3,4,5,6,7,8,9,10,11,12])\n",
    "reshaped_arr=res.reshape(3,4)\n",
    "print(\"reshaped Array:\",reshaped_arr)"
   ]
  },
  {
   "cell_type": "code",
   "execution_count": 34,
   "id": "80070e7c-2937-4ae0-80b9-4a62358407d8",
   "metadata": {},
   "outputs": [
    {
     "name": "stdout",
     "output_type": "stream",
     "text": [
      "First Row: [1 2 3]\n",
      "Last Column: [3 6 9]\n"
     ]
    }
   ],
   "source": [
    "# Array Indexing and Slicing:\n",
    "# Extract the first row and last column of a 2-dimensional array.\n",
    "last_first = np.array([[1, 2, 3], [4, 5, 6], [7, 8, 9]])\n",
    "first_row = last_first[0, :]\n",
    "last_col = last_first[:, -1]\n",
    "print(f\"First Row: {first_row}\")\n",
    "print(f\"Last Column: {last_col}\")"
   ]
  },
  {
   "cell_type": "code",
   "execution_count": 38,
   "id": "98f1d5a3-4b85-4026-8af2-18d7239f57cf",
   "metadata": {},
   "outputs": [
    {
     "data": {
      "text/plain": [
       "array([4, 3, 2, 1])"
      ]
     },
     "execution_count": 38,
     "metadata": {},
     "output_type": "execute_result"
    }
   ],
   "source": [
    "# Reverse the order of elements in a 1-dimensional array.\n",
    "rev_arr=np.array([1,2,3,4])\n",
    "rev_sort=rev_arr[-1::-1]\n",
    "rev_sort"
   ]
  },
  {
   "cell_type": "code",
   "execution_count": 40,
   "id": "b1b351bc-88a9-4fb4-8825-46871fbc34fb",
   "metadata": {},
   "outputs": [
    {
     "name": "stdout",
     "output_type": "stream",
     "text": [
      "Elements greater than threshold: [ 6  8 10 12 14 16 18 20 22 24]\n"
     ]
    }
   ],
   "source": [
    "# Select elements from a 2-dimensional array that satisfy a specific condition (e.g., values greater than a certain threshold).\n",
    "import numpy as np\n",
    "\n",
    "# Define a properly shaped 2D array\n",
    "d_arr = np.array([[2, 4, 6, 8], [10, 12, 14, 16], [18, 20, 22, 24]])\n",
    "threshold = 5\n",
    "elements = d_arr[d_arr > threshold]\n",
    "print(\"Elements greater than threshold:\", elements)"
   ]
  },
  {
   "cell_type": "code",
   "execution_count": 41,
   "id": "c449179a-a3c6-4391-97b4-f6b50d3f92d8",
   "metadata": {},
   "outputs": [
    {
     "data": {
      "text/plain": [
       "array([[ 9, 10, 11, 12],\n",
       "       [13, 14, 15, 16]])"
      ]
     },
     "execution_count": 41,
     "metadata": {},
     "output_type": "execute_result"
    }
   ],
   "source": [
    "# Array Broadcasting:\n",
    "# Add a scalar value to each element of a 2-dimensional array.\n",
    "broad=np.array([[1,2,3,4],[5,6,7,8]])\n",
    "scalar=8\n",
    "cast=broad+scalar\n",
    "cast"
   ]
  },
  {
   "cell_type": "code",
   "execution_count": 43,
   "id": "550275ef-410f-448c-89aa-5a1817587faa",
   "metadata": {},
   "outputs": [
    {
     "data": {
      "text/plain": [
       "array([[ 4,  8, 12, 16],\n",
       "       [20, 24, 28, 32]])"
      ]
     },
     "execution_count": 43,
     "metadata": {},
     "output_type": "execute_result"
    }
   ],
   "source": [
    "# Multiply a 1-dimensional array with a 2-dimensional array, leveraging NumPy's broadcasting rules.\n",
    "matr=np.array([[2,4,6,8],[10,12,14,16]])\n",
    "vect=np.array([2,2,2,2])\n",
    "multi=matr*vect\n",
    "multi"
   ]
  },
  {
   "cell_type": "code",
   "execution_count": 44,
   "id": "9e6b8e5d-10f4-4888-ada0-983b47a235a3",
   "metadata": {},
   "outputs": [
    {
     "data": {
      "text/plain": [
       "70"
      ]
     },
     "execution_count": 44,
     "metadata": {},
     "output_type": "execute_result"
    }
   ],
   "source": [
    "# Linear Algebra:\n",
    "# Calculate the dot product of two 1-dimensional arrays.\n",
    "arr1=np.array([1,2,3,4])\n",
    "arr2=np.array([5,6,7,8])\n",
    "dot_product=np.dot(arr1,arr2)\n",
    "dot_product"
   ]
  },
  {
   "cell_type": "code",
   "execution_count": 48,
   "id": "0effa435-d4a9-41da-b164-bbe7ec1729da",
   "metadata": {},
   "outputs": [
    {
     "name": "stdout",
     "output_type": "stream",
     "text": [
      "Matrix Multiplication: [[120 127 134]\n",
      " [290 307 324]]\n"
     ]
    }
   ],
   "source": [
    "# Compute the matrix multiplication of two 2-dimensional arrays.\n",
    "x=np.array([[1,2,4],[3,4,10]])\n",
    "y=np.array([[12,13,14],[16,17,18],[19,20,21]])\n",
    "multi=np.dot(x,y)\n",
    "print(\"Matrix Multiplication:\",multi)"
   ]
  },
  {
   "cell_type": "code",
   "execution_count": 49,
   "id": "8618e784-54e7-4224-b841-7893b924f17c",
   "metadata": {},
   "outputs": [
    {
     "name": "stdout",
     "output_type": "stream",
     "text": [
      "Determinant: 10.000000000000002\n",
      "Inverse:\n",
      " [[ 0.6 -0.7]\n",
      " [-0.2  0.4]]\n"
     ]
    }
   ],
   "source": [
    "# Find the inverse and determinant of a square matrix.\n",
    "import numpy as np\n",
    "A = np.array([[4, 7], [2, 6]])\n",
    "determinant = np.linalg.det(A)\n",
    "if determinant != 0:\n",
    "    inverse = np.linalg.inv(A)\n",
    "    print(\"Determinant:\", determinant)\n",
    "    print(\"Inverse:\\n\", inverse)\n",
    "else:\n",
    "    print(\"Matrix is singular, inverse does not exist.\")"
   ]
  },
  {
   "cell_type": "code",
   "execution_count": null,
   "id": "42036357-bbce-44bc-956b-9116b59ae064",
   "metadata": {},
   "outputs": [],
   "source": []
  }
 ],
 "metadata": {
  "kernelspec": {
   "display_name": "Python 3 (ipykernel)",
   "language": "python",
   "name": "python3"
  },
  "language_info": {
   "codemirror_mode": {
    "name": "ipython",
    "version": 3
   },
   "file_extension": ".py",
   "mimetype": "text/x-python",
   "name": "python",
   "nbconvert_exporter": "python",
   "pygments_lexer": "ipython3",
   "version": "3.12.4"
  }
 },
 "nbformat": 4,
 "nbformat_minor": 5
}
